{
 "cells": [
  {
   "cell_type": "markdown",
   "metadata": {},
   "source": [
    "# Preface\n",
    "This project is to explore the use of the Keras library will be used for image pre-processing and model creation. Mainly, the Keras ImageDataGenerator will be used for image augmentation as well as train, validation split. \n",
    "\n",
    "A stratified split approach will be used to split the images into train, validation and test sets. 10% of images from each label will first be split for the test set by calling a function, while the remaining images will be split between the training and validation sets in the ratio of 80% and 20% respectively via Keras ImageDataGenerator.\n",
    "\n",
    "A pre-trained model, NASNetMobile, will be used to take advantage of the pre-trained weights in ImageNet. NASNetMobile was selected for its relatively high accuracy while being lightweight, hence making it ideal for importing to mobile devices."
   ]
  },
  {
   "cell_type": "markdown",
   "metadata": {},
   "source": [
    "# Procedures\n",
    "The following are performed:\n",
    "- Handling of the dataset\n",
    "- Creation and training of model\n",
    "- Validation of accuracy"
   ]
  },
  {
   "cell_type": "markdown",
   "metadata": {},
   "source": [
    "### Handling of the dataset: Subdirectory creation\n",
    "To implement the Keras pre-processing library, the images will have to be classified in sub-folders according to their labels."
   ]
  },
  {
   "cell_type": "code",
   "execution_count": 1,
   "metadata": {},
   "outputs": [
    {
     "data": {
      "text/plain": [
       "flower51    258\n",
       "flower77    251\n",
       "flower46    196\n",
       "flower73    194\n",
       "flower89    184\n",
       "           ... \n",
       "flower3      40\n",
       "flower7      40\n",
       "flower1      40\n",
       "flower34     40\n",
       "flower27     40\n",
       "Name: label, Length: 102, dtype: int64"
      ]
     },
     "execution_count": 1,
     "metadata": {},
     "output_type": "execute_result"
    }
   ],
   "source": [
    "import pandas as pd\n",
    "import numpy as np\n",
    "import os\n",
    "import pickle\n",
    "import matplotlib.pyplot as plt\n",
    "%matplotlib inline\n",
    "import scipy.io as sio\n",
    "\n",
    "#Create DataFrame with imagenames\n",
    "filename = [x for root, dirs, files in os.walk(\"jpg\") for x in files]\n",
    "df = pd.DataFrame(filename)\n",
    "df.rename(columns = {df.columns[0] : \"filename\"}, inplace = True)\n",
    "\n",
    "#Read the labels file\n",
    "data = sio.loadmat(\"imagelabels.mat\")\n",
    "df[\"oldlabel\"] = pd.DataFrame(np.hstack((data[\"labels\"])))\n",
    "\n",
    "#Rename the labels to string objects to prevent int dtype errors\n",
    "df[\"flower\"] = \"flower\"\n",
    "df[\"label\"] = df[\"flower\"] + df[\"oldlabel\"].map(str)\n",
    "df.drop(columns = [\"flower\", \"oldlabel\"], inplace = True)\n",
    "\n",
    "#Display labels with their image count\n",
    "df.label.value_counts()"
   ]
  },
  {
   "cell_type": "markdown",
   "metadata": {},
   "source": [
    "##### Note:\n",
    "- Number of labels = 102\n",
    "- Different labels have different number of images. Number of images range from 40 to 258\n",
    "\n",
    "For this simple classification exercise, only labels with 40 or less images are used.\n",
    "\n",
    "Due to the small dataset for each label, image augmentation is used to increase the dataset variation to prevent overfitting."
   ]
  },
  {
   "cell_type": "code",
   "execution_count": 2,
   "metadata": {},
   "outputs": [
    {
     "data": {
      "text/plain": [
       "flower27    40\n",
       "flower34    40\n",
       "flower21    40\n",
       "flower3     40\n",
       "flower7     40\n",
       "flower45    40\n",
       "flower1     40\n",
       "Name: label, dtype: int64"
      ]
     },
     "execution_count": 2,
     "metadata": {},
     "output_type": "execute_result"
    }
   ],
   "source": [
    "#Compile images of species >= 150 images\n",
    "df_new = df[df[\"label\"].map(df.label.value_counts() <= 40)]\n",
    "df_new.label.value_counts()"
   ]
  },
  {
   "cell_type": "code",
   "execution_count": 3,
   "metadata": {},
   "outputs": [],
   "source": [
    "#Function to create sub-folders for each label within the same directory\n",
    "#Function heavily modified from https://www.kaggle.com/ericbenhamou/sub-directories-for-keras-flow-from-directory\n",
    "def create_folders(parent_dir, train_folder_name, test_folder_name, df, categories):\n",
    "    \n",
    "    #Create train and test folders in the same directory\n",
    "    folders = [train_folder_name, test_folder_name]\n",
    "        \n",
    "    for folder in folders:\n",
    "        if not os.path.isdir(folder):\n",
    "            os.mkdir(folder)\n",
    "            print(f\"Folder {folder}, created!\")\n",
    "        else:\n",
    "            print(f\"Folder {folder}, exists!\")\n",
    "          \n",
    "    #Create labels in the train and test folders\n",
    "    for folder in folders:\n",
    "        for i in categories:\n",
    "            subfolder = str(i)\n",
    "            path = os.path.join(f\"{parent_dir}/\" + folder, subfolder)\n",
    "            if not os.path.isdir(path):\n",
    "                os.mkdir(path)\n",
    "            else:\n",
    "                print(f\"Folder {i}, exists in {folder}!\")\n",
    "    \n",
    "    print(f\"Folders and subfolders created for {train_folder_name} and {test_folder_name}!\")"
   ]
  },
  {
   "cell_type": "code",
   "execution_count": 4,
   "metadata": {},
   "outputs": [
    {
     "name": "stdout",
     "output_type": "stream",
     "text": [
      "Folder train, created!\n",
      "Folder test, created!\n",
      "Folders and subfolders created for train and test!\n"
     ]
    }
   ],
   "source": [
    "#Create the subfolders\n",
    "parent_dir = r\"C:\\Users\\Yong Jin\\Desktop\\Test\"\n",
    "train_folder_name = \"train\"\n",
    "test_folder_name = \"test\"\n",
    "categories = np.unique(df_new.label.values)\n",
    "\n",
    "create_folders(parent_dir, train_folder_name, test_folder_name, df_new, categories) #Input df here"
   ]
  },
  {
   "cell_type": "code",
   "execution_count": 5,
   "metadata": {},
   "outputs": [],
   "source": [
    "#Function to move images to train subfolders\n",
    "#Function modified from https://www.kaggle.com/ericbenhamou/sub-directories-for-keras-flow-from-directory\n",
    "def move_files(path, train_folder_name, df, map_dict):\n",
    "    failed = 0\n",
    "    \n",
    "    for root, dirs, files in os.walk(path, topdown = True):\n",
    "        for name in files:\n",
    "            oldfile = os.path.join(root, name)\n",
    "            newfile = os.path.join(f\"{train_folder_name}/\"+ map_dict[name], name)\n",
    "                                   \n",
    "            if not os.path.isdir(newfile):\n",
    "                try:\n",
    "                    os.rename(oldfile, newfile)\n",
    "                    \n",
    "                except:\n",
    "                    failed += 1\n",
    "    \n",
    "    print(\"Completed transfer of images to train subfolders.\")\n",
    "    print(f\"Failed to move {failed} images!\")"
   ]
  },
  {
   "cell_type": "code",
   "execution_count": 6,
   "metadata": {},
   "outputs": [
    {
     "name": "stdout",
     "output_type": "stream",
     "text": [
      "Completed transfer of images to train subfolders.\n",
      "Failed to move 7909 images!\n",
      "7909 images are not in the selected criteria.\n"
     ]
    }
   ],
   "source": [
    "#Call the functions to move images to train subfolders\n",
    "#Note that images not in the selected labels will not be moved\n",
    "\n",
    "path = \"jpg\" #Directory\n",
    "map_dict = dict(df.values.tolist()) #Create dictionary of filename: labels for mapping\n",
    "\n",
    "move_files(path, train_folder_name, df_new, map_dict) #Input df here\n",
    "\n",
    "#Check number of images not in the selected labels to verify\n",
    "df_nan = df[df[\"label\"].map(df.label.value_counts() > 40)]\n",
    "print(f'{sum(df_nan.label.value_counts())} images are not in the selected criteria.')"
   ]
  },
  {
   "cell_type": "code",
   "execution_count": 7,
   "metadata": {},
   "outputs": [],
   "source": [
    "#Function to move images to test subfolders\n",
    "#Function modified from https://www.kaggle.com/ericbenhamou/sub-directories-for-keras-flow-from-directory\n",
    "def move_test_images(train_folder_name, test_folder_name, df, test_ratio):\n",
    "       \n",
    "    for root, dirs, files in os.walk(train_folder_name, topdown = True):\n",
    "        failed = 0\n",
    "        train_num = len(files)\n",
    "        \n",
    "        if train_num == 0:\n",
    "            continue\n",
    "        \n",
    "        test_num = 0\n",
    "                 \n",
    "        for name in files:\n",
    "            oldfile = os.path.join(root, name)\n",
    "            newfile = os.path.join(f\"{test_folder_name}/\" +\n",
    "                                   root[len(train_folder_name) + 1:], \n",
    "                                   name)\n",
    "            \n",
    "            test_num += 1\n",
    "                    \n",
    "            if test_ratio < test_num / train_num: \n",
    "                continue #If test ratio met, move to the next subfolder\n",
    "            \n",
    "            if not os.path.isdir(newfile):\n",
    "                try:\n",
    "                    os.rename(oldfile, newfile)\n",
    "                    \n",
    "                except:\n",
    "                    failed += 1\n",
    "        \n",
    "        if failed > 0:\n",
    "            print(f\"Failed to move {failed} files in {root}\")\n",
    "    \n",
    "    print(\"Completed transfer of images to test subfolders.\")"
   ]
  },
  {
   "cell_type": "code",
   "execution_count": 8,
   "metadata": {},
   "outputs": [
    {
     "name": "stdout",
     "output_type": "stream",
     "text": [
      "Completed transfer of images to test subfolders.\n"
     ]
    }
   ],
   "source": [
    "#Call the functions to split images to test subfolders\n",
    "test_ratio = 0.1\n",
    "\n",
    "move_test_images(train_folder_name, test_folder_name, df, test_ratio)"
   ]
  },
  {
   "cell_type": "code",
   "execution_count": 9,
   "metadata": {},
   "outputs": [
    {
     "name": "stdout",
     "output_type": "stream",
     "text": [
      "flower1/\n",
      "    image_06738.jpg\n",
      "    image_06739.jpg\n",
      "    image_06740.jpg\n",
      "    image_06741.jpg\n",
      "    image_06742.jpg\n",
      "    image_06743.jpg\n",
      "    image_06744.jpg\n",
      "    image_06745.jpg\n",
      "    image_06746.jpg\n",
      "    image_06747.jpg\n",
      "    image_06748.jpg\n",
      "    image_06749.jpg\n",
      "    image_06750.jpg\n",
      "    image_06751.jpg\n",
      "    image_06752.jpg\n",
      "    image_06753.jpg\n",
      "    image_06754.jpg\n",
      "    image_06755.jpg\n",
      "    image_06756.jpg\n",
      "    image_06757.jpg\n",
      "    image_06758.jpg\n",
      "    image_06759.jpg\n",
      "    image_06760.jpg\n",
      "    image_06761.jpg\n",
      "    image_06762.jpg\n",
      "    image_06763.jpg\n",
      "    image_06764.jpg\n",
      "    image_06765.jpg\n",
      "    image_06766.jpg\n",
      "    image_06767.jpg\n",
      "    image_06768.jpg\n",
      "    image_06769.jpg\n",
      "    image_06770.jpg\n",
      "    image_06771.jpg\n",
      "    image_06772.jpg\n",
      "    image_06773.jpg\n",
      "flower1/\n",
      "    image_06734.jpg\n",
      "    image_06735.jpg\n",
      "    image_06736.jpg\n",
      "    image_06737.jpg\n"
     ]
    }
   ],
   "source": [
    "#Check that image mapping is correct\n",
    "#Function code extracted from https://stackoverflow.com/questions/9727673/list-directory-tree-structure-in-python\n",
    "def list_files(startpath):\n",
    "    for root, dirs, files in os.walk(startpath):\n",
    "        level = root.replace(startpath, '').count(os.sep)\n",
    "        indent = ' ' * 4 * (level)\n",
    "        print(f\"{indent}{os.path.basename(root)}/\")\n",
    "        subindent = ' ' * 4 * (level + 1)\n",
    "        for f in files:\n",
    "            print(f\"{subindent}{f}\")\n",
    "\n",
    "#Check that the list of images for Yellow_Bittern and Brahmini_Kite is correct\n",
    "checklist = [\"flower1\"]\n",
    "\n",
    "list_files(f\"train/{checklist}\")\n",
    "list_files(f\"test/{checklist}\")"
   ]
  },
  {
   "cell_type": "code",
   "execution_count": 10,
   "metadata": {},
   "outputs": [
    {
     "data": {
      "text/html": [
       "<div>\n",
       "<style scoped>\n",
       "    .dataframe tbody tr th:only-of-type {\n",
       "        vertical-align: middle;\n",
       "    }\n",
       "\n",
       "    .dataframe tbody tr th {\n",
       "        vertical-align: top;\n",
       "    }\n",
       "\n",
       "    .dataframe thead th {\n",
       "        text-align: right;\n",
       "    }\n",
       "</style>\n",
       "<table border=\"1\" class=\"dataframe\">\n",
       "  <thead>\n",
       "    <tr style=\"text-align: right;\">\n",
       "      <th></th>\n",
       "      <th>filename</th>\n",
       "      <th>label</th>\n",
       "    </tr>\n",
       "  </thead>\n",
       "  <tbody>\n",
       "    <tr>\n",
       "      <th>6733</th>\n",
       "      <td>image_06734.jpg</td>\n",
       "      <td>flower1</td>\n",
       "    </tr>\n",
       "    <tr>\n",
       "      <th>6734</th>\n",
       "      <td>image_06735.jpg</td>\n",
       "      <td>flower1</td>\n",
       "    </tr>\n",
       "    <tr>\n",
       "      <th>6735</th>\n",
       "      <td>image_06736.jpg</td>\n",
       "      <td>flower1</td>\n",
       "    </tr>\n",
       "    <tr>\n",
       "      <th>6736</th>\n",
       "      <td>image_06737.jpg</td>\n",
       "      <td>flower1</td>\n",
       "    </tr>\n",
       "    <tr>\n",
       "      <th>6737</th>\n",
       "      <td>image_06738.jpg</td>\n",
       "      <td>flower1</td>\n",
       "    </tr>\n",
       "    <tr>\n",
       "      <th>6738</th>\n",
       "      <td>image_06739.jpg</td>\n",
       "      <td>flower1</td>\n",
       "    </tr>\n",
       "    <tr>\n",
       "      <th>6739</th>\n",
       "      <td>image_06740.jpg</td>\n",
       "      <td>flower1</td>\n",
       "    </tr>\n",
       "    <tr>\n",
       "      <th>6740</th>\n",
       "      <td>image_06741.jpg</td>\n",
       "      <td>flower1</td>\n",
       "    </tr>\n",
       "    <tr>\n",
       "      <th>6741</th>\n",
       "      <td>image_06742.jpg</td>\n",
       "      <td>flower1</td>\n",
       "    </tr>\n",
       "    <tr>\n",
       "      <th>6742</th>\n",
       "      <td>image_06743.jpg</td>\n",
       "      <td>flower1</td>\n",
       "    </tr>\n",
       "    <tr>\n",
       "      <th>6743</th>\n",
       "      <td>image_06744.jpg</td>\n",
       "      <td>flower1</td>\n",
       "    </tr>\n",
       "    <tr>\n",
       "      <th>6744</th>\n",
       "      <td>image_06745.jpg</td>\n",
       "      <td>flower1</td>\n",
       "    </tr>\n",
       "    <tr>\n",
       "      <th>6745</th>\n",
       "      <td>image_06746.jpg</td>\n",
       "      <td>flower1</td>\n",
       "    </tr>\n",
       "    <tr>\n",
       "      <th>6746</th>\n",
       "      <td>image_06747.jpg</td>\n",
       "      <td>flower1</td>\n",
       "    </tr>\n",
       "    <tr>\n",
       "      <th>6747</th>\n",
       "      <td>image_06748.jpg</td>\n",
       "      <td>flower1</td>\n",
       "    </tr>\n",
       "    <tr>\n",
       "      <th>6748</th>\n",
       "      <td>image_06749.jpg</td>\n",
       "      <td>flower1</td>\n",
       "    </tr>\n",
       "    <tr>\n",
       "      <th>6749</th>\n",
       "      <td>image_06750.jpg</td>\n",
       "      <td>flower1</td>\n",
       "    </tr>\n",
       "    <tr>\n",
       "      <th>6750</th>\n",
       "      <td>image_06751.jpg</td>\n",
       "      <td>flower1</td>\n",
       "    </tr>\n",
       "    <tr>\n",
       "      <th>6751</th>\n",
       "      <td>image_06752.jpg</td>\n",
       "      <td>flower1</td>\n",
       "    </tr>\n",
       "    <tr>\n",
       "      <th>6752</th>\n",
       "      <td>image_06753.jpg</td>\n",
       "      <td>flower1</td>\n",
       "    </tr>\n",
       "    <tr>\n",
       "      <th>6753</th>\n",
       "      <td>image_06754.jpg</td>\n",
       "      <td>flower1</td>\n",
       "    </tr>\n",
       "    <tr>\n",
       "      <th>6754</th>\n",
       "      <td>image_06755.jpg</td>\n",
       "      <td>flower1</td>\n",
       "    </tr>\n",
       "    <tr>\n",
       "      <th>6755</th>\n",
       "      <td>image_06756.jpg</td>\n",
       "      <td>flower1</td>\n",
       "    </tr>\n",
       "    <tr>\n",
       "      <th>6756</th>\n",
       "      <td>image_06757.jpg</td>\n",
       "      <td>flower1</td>\n",
       "    </tr>\n",
       "    <tr>\n",
       "      <th>6757</th>\n",
       "      <td>image_06758.jpg</td>\n",
       "      <td>flower1</td>\n",
       "    </tr>\n",
       "    <tr>\n",
       "      <th>6758</th>\n",
       "      <td>image_06759.jpg</td>\n",
       "      <td>flower1</td>\n",
       "    </tr>\n",
       "    <tr>\n",
       "      <th>6759</th>\n",
       "      <td>image_06760.jpg</td>\n",
       "      <td>flower1</td>\n",
       "    </tr>\n",
       "    <tr>\n",
       "      <th>6760</th>\n",
       "      <td>image_06761.jpg</td>\n",
       "      <td>flower1</td>\n",
       "    </tr>\n",
       "    <tr>\n",
       "      <th>6761</th>\n",
       "      <td>image_06762.jpg</td>\n",
       "      <td>flower1</td>\n",
       "    </tr>\n",
       "    <tr>\n",
       "      <th>6762</th>\n",
       "      <td>image_06763.jpg</td>\n",
       "      <td>flower1</td>\n",
       "    </tr>\n",
       "    <tr>\n",
       "      <th>6763</th>\n",
       "      <td>image_06764.jpg</td>\n",
       "      <td>flower1</td>\n",
       "    </tr>\n",
       "    <tr>\n",
       "      <th>6764</th>\n",
       "      <td>image_06765.jpg</td>\n",
       "      <td>flower1</td>\n",
       "    </tr>\n",
       "    <tr>\n",
       "      <th>6765</th>\n",
       "      <td>image_06766.jpg</td>\n",
       "      <td>flower1</td>\n",
       "    </tr>\n",
       "    <tr>\n",
       "      <th>6766</th>\n",
       "      <td>image_06767.jpg</td>\n",
       "      <td>flower1</td>\n",
       "    </tr>\n",
       "    <tr>\n",
       "      <th>6767</th>\n",
       "      <td>image_06768.jpg</td>\n",
       "      <td>flower1</td>\n",
       "    </tr>\n",
       "    <tr>\n",
       "      <th>6768</th>\n",
       "      <td>image_06769.jpg</td>\n",
       "      <td>flower1</td>\n",
       "    </tr>\n",
       "    <tr>\n",
       "      <th>6769</th>\n",
       "      <td>image_06770.jpg</td>\n",
       "      <td>flower1</td>\n",
       "    </tr>\n",
       "    <tr>\n",
       "      <th>6770</th>\n",
       "      <td>image_06771.jpg</td>\n",
       "      <td>flower1</td>\n",
       "    </tr>\n",
       "    <tr>\n",
       "      <th>6771</th>\n",
       "      <td>image_06772.jpg</td>\n",
       "      <td>flower1</td>\n",
       "    </tr>\n",
       "    <tr>\n",
       "      <th>6772</th>\n",
       "      <td>image_06773.jpg</td>\n",
       "      <td>flower1</td>\n",
       "    </tr>\n",
       "  </tbody>\n",
       "</table>\n",
       "</div>"
      ],
      "text/plain": [
       "             filename    label\n",
       "6733  image_06734.jpg  flower1\n",
       "6734  image_06735.jpg  flower1\n",
       "6735  image_06736.jpg  flower1\n",
       "6736  image_06737.jpg  flower1\n",
       "6737  image_06738.jpg  flower1\n",
       "6738  image_06739.jpg  flower1\n",
       "6739  image_06740.jpg  flower1\n",
       "6740  image_06741.jpg  flower1\n",
       "6741  image_06742.jpg  flower1\n",
       "6742  image_06743.jpg  flower1\n",
       "6743  image_06744.jpg  flower1\n",
       "6744  image_06745.jpg  flower1\n",
       "6745  image_06746.jpg  flower1\n",
       "6746  image_06747.jpg  flower1\n",
       "6747  image_06748.jpg  flower1\n",
       "6748  image_06749.jpg  flower1\n",
       "6749  image_06750.jpg  flower1\n",
       "6750  image_06751.jpg  flower1\n",
       "6751  image_06752.jpg  flower1\n",
       "6752  image_06753.jpg  flower1\n",
       "6753  image_06754.jpg  flower1\n",
       "6754  image_06755.jpg  flower1\n",
       "6755  image_06756.jpg  flower1\n",
       "6756  image_06757.jpg  flower1\n",
       "6757  image_06758.jpg  flower1\n",
       "6758  image_06759.jpg  flower1\n",
       "6759  image_06760.jpg  flower1\n",
       "6760  image_06761.jpg  flower1\n",
       "6761  image_06762.jpg  flower1\n",
       "6762  image_06763.jpg  flower1\n",
       "6763  image_06764.jpg  flower1\n",
       "6764  image_06765.jpg  flower1\n",
       "6765  image_06766.jpg  flower1\n",
       "6766  image_06767.jpg  flower1\n",
       "6767  image_06768.jpg  flower1\n",
       "6768  image_06769.jpg  flower1\n",
       "6769  image_06770.jpg  flower1\n",
       "6770  image_06771.jpg  flower1\n",
       "6771  image_06772.jpg  flower1\n",
       "6772  image_06773.jpg  flower1"
      ]
     },
     "execution_count": 10,
     "metadata": {},
     "output_type": "execute_result"
    }
   ],
   "source": [
    "#Check the filename against the DataFrame mapping\n",
    "df.query(f\"label in {checklist}\")"
   ]
  },
  {
   "cell_type": "markdown",
   "metadata": {},
   "source": [
    "##### Note\n",
    "The image names of the \"flower1\" label in the subfolders matches the label mapping in the DataFrame. Image transfer was sucessful."
   ]
  },
  {
   "cell_type": "markdown",
   "metadata": {},
   "source": [
    "### Handling of the dataset: Preprocessing and image augmentation\n",
    "* As the model used is NASNetMobile, the respective preprocessing method will be used.\n",
    "* Keras library is also utilised for the image augmentation during training."
   ]
  },
  {
   "cell_type": "code",
   "execution_count": 11,
   "metadata": {},
   "outputs": [
    {
     "name": "stdout",
     "output_type": "stream",
     "text": [
      "Found 203 images belonging to 7 classes.\n"
     ]
    }
   ],
   "source": [
    "from tensorflow.keras.preprocessing.image import ImageDataGenerator\n",
    "from tensorflow.keras.applications.nasnet import NASNetMobile, preprocess_input\n",
    "\n",
    "#Image augmentation parameters for training set\n",
    "train_params = ImageDataGenerator(\n",
    "                   rotation_range = 20, \n",
    "                   brightness_range = (0.5, 1.5), \n",
    "                   shear_range = 30, \n",
    "                   zoom_range = (0.8, 1.2), \n",
    "                   fill_mode = \"nearest\", \n",
    "                   horizontal_flip = True,\n",
    "                   validation_split = 0.2,\n",
    "                   preprocessing_function = preprocess_input) #Using NASNetMobile's preprocessing method\n",
    "\n",
    "#Creating the image augmentation\n",
    "#Change directory as necessary\n",
    "direc = \"train\" \n",
    "\n",
    "labels = np.unique(df_new.label.values).tolist()\n",
    "\n",
    "#Training set\n",
    "train_gen = train_params.flow_from_directory(\n",
    "                    directory = direc,\n",
    "                    target_size = (224, 224), #Using the default image size of NASNetMobile for optimal results\n",
    "                    color_mode = \"rgb\",\n",
    "                    classes = labels,\n",
    "                    class_mode = \"categorical\",\n",
    "                    batch_size = 32,\n",
    "                    shuffle = True,\n",
    "                    seed = 2020,\n",
    "                    subset = \"training\")"
   ]
  },
  {
   "cell_type": "code",
   "execution_count": 12,
   "metadata": {},
   "outputs": [
    {
     "name": "stdout",
     "output_type": "stream",
     "text": [
      "Found 49 images belonging to 7 classes.\n"
     ]
    }
   ],
   "source": [
    "#Image augmentation parameters for validation set (no augmentation of data)\n",
    "valid_params = ImageDataGenerator(\n",
    "                   validation_split = 0.2,\n",
    "                   preprocessing_function = preprocess_input) #Using NASNetMobile's preprocessing method\n",
    "\n",
    "#Validation set\n",
    "valid_gen = valid_params.flow_from_directory(\n",
    "                    directory = direc,\n",
    "                    target_size = (224, 224), #Using the default image size of NASNetMobile for optimal results\n",
    "                    color_mode = \"rgb\",\n",
    "                    classes = labels,\n",
    "                    class_mode = \"categorical\",\n",
    "                    batch_size = 32,\n",
    "                    shuffle = True,\n",
    "                    seed = 2020,\n",
    "                    subset = \"validation\")"
   ]
  },
  {
   "cell_type": "code",
   "execution_count": 13,
   "metadata": {},
   "outputs": [],
   "source": [
    "#Verify that all labels have at least 1 validation image\n",
    "for i in range(len(labels)):\n",
    "    if valid_gen.classes.tolist().count(i) < 1:\n",
    "        print(f\"Missing validation image from {list(valid_gen.class_indices.keys())[i]}\")"
   ]
  },
  {
   "cell_type": "code",
   "execution_count": 14,
   "metadata": {},
   "outputs": [
    {
     "name": "stdout",
     "output_type": "stream",
     "text": [
      "Found 28 images belonging to 7 classes.\n"
     ]
    }
   ],
   "source": [
    "#Image augmentation parameters for test set (Implementing Test Time Augmentation)\n",
    "test_params = train_params = ImageDataGenerator(\n",
    "                   preprocessing_function = preprocess_input) #Using NASNetMobile's preprocessing method\n",
    "\n",
    "#Change directory as necessary\n",
    "test_direc = \"test\"\n",
    "\n",
    "#Validation set\n",
    "test_gen = test_params.flow_from_directory(\n",
    "                    directory = test_direc,\n",
    "                    target_size = (224, 224), #Using the default image size of NASNetMobile for optimal results\n",
    "                    color_mode = \"rgb\",\n",
    "                    classes = labels,\n",
    "                    class_mode = \"categorical\",\n",
    "                    batch_size = 32,\n",
    "                    shuffle = False,\n",
    "                    seed = 2020)"
   ]
  },
  {
   "cell_type": "code",
   "execution_count": 15,
   "metadata": {},
   "outputs": [],
   "source": [
    "#Verify that all labels have at least 1 test image\n",
    "for i in range(len(labels)):\n",
    "    if test_gen.classes.tolist().count(i) < 1:\n",
    "        print(f\"Missing validation image from {list(test_gen.class_indices.keys())[i]}\")"
   ]
  },
  {
   "cell_type": "markdown",
   "metadata": {},
   "source": [
    "##### Note:\n",
    "* All labels have at least 1 image for validation and testing."
   ]
  },
  {
   "cell_type": "raw",
   "metadata": {},
   "source": []
  },
  {
   "cell_type": "markdown",
   "metadata": {},
   "source": [
    "### Creation and training of model\n",
    "- Using NASNetMobile as base model\n",
    "- Include a pooling layer and fully connected layer"
   ]
  },
  {
   "cell_type": "code",
   "execution_count": 16,
   "metadata": {},
   "outputs": [],
   "source": [
    "#Setting up the NASNetMobile base model\n",
    "inputs = (224, 224, 3)\n",
    "base_model = NASNetMobile(include_top = False, weights = \"imagenet\", input_shape = inputs, pooling = \"average\")\n",
    "\n",
    "for layer in base_model.layers[:]:\n",
    "    layer.trainable = False"
   ]
  },
  {
   "cell_type": "code",
   "execution_count": 17,
   "metadata": {},
   "outputs": [],
   "source": [
    "from tensorflow.keras.models import Sequential\n",
    "from tensorflow.keras.layers import Dense, GlobalAveragePooling2D\n",
    "from tensorflow.keras.optimizers import Adam\n",
    "\n",
    "model = Sequential()\n",
    "model.add(base_model)\n",
    "model.add(GlobalAveragePooling2D())\n",
    "model.add(Dense(7, activation = \"softmax\"))\n",
    "\n",
    "model.compile(optimizer = Adam(), \n",
    "              loss = \"categorical_crossentropy\",\n",
    "              metrics = [\"accuracy\"])"
   ]
  },
  {
   "cell_type": "code",
   "execution_count": 18,
   "metadata": {},
   "outputs": [
    {
     "name": "stdout",
     "output_type": "stream",
     "text": [
      "Epoch 1/30\n",
      "7/7 [==============================] - 12s 2s/step - loss: 1.5347 - accuracy: 0.4286 - val_loss: 0.8894 - val_accuracy: 0.6939 - lr: 0.0100\n",
      "Epoch 2/30\n",
      "7/7 [==============================] - 11s 2s/step - loss: 0.6140 - accuracy: 0.7685 - val_loss: 0.3469 - val_accuracy: 0.8776 - lr: 0.0100\n",
      "Epoch 3/30\n",
      "7/7 [==============================] - 10s 1s/step - loss: 0.3462 - accuracy: 0.8818 - val_loss: 0.4932 - val_accuracy: 0.7551 - lr: 0.0100\n",
      "Epoch 4/30\n",
      "7/7 [==============================] - 9s 1s/step - loss: 0.2953 - accuracy: 0.8916 - val_loss: 0.3882 - val_accuracy: 0.8163 - lr: 0.0010\n",
      "Epoch 5/30\n",
      "7/7 [==============================] - 11s 2s/step - loss: 0.1974 - accuracy: 0.9507 - val_loss: 0.2656 - val_accuracy: 0.9184 - lr: 0.0010\n",
      "Epoch 6/30\n",
      "7/7 [==============================] - 10s 1s/step - loss: 0.1768 - accuracy: 0.9606 - val_loss: 0.2220 - val_accuracy: 0.9388 - lr: 0.0010\n",
      "Epoch 7/30\n",
      "7/7 [==============================] - 10s 1s/step - loss: 0.2140 - accuracy: 0.9409 - val_loss: 0.2069 - val_accuracy: 0.9388 - lr: 0.0010\n",
      "Epoch 8/30\n",
      "7/7 [==============================] - 11s 2s/step - loss: 0.1672 - accuracy: 0.9409 - val_loss: 0.2024 - val_accuracy: 0.9592 - lr: 0.0010\n",
      "Epoch 9/30\n",
      "7/7 [==============================] - 11s 2s/step - loss: 0.1833 - accuracy: 0.9458 - val_loss: 0.2032 - val_accuracy: 0.9592 - lr: 1.0000e-04\n",
      "Epoch 10/30\n",
      "7/7 [==============================] - 10s 1s/step - loss: 0.1887 - accuracy: 0.9409 - val_loss: 0.2036 - val_accuracy: 0.9592 - lr: 1.0000e-04\n",
      "Epoch 11/30\n",
      "7/7 [==============================] - 10s 1s/step - loss: 0.1813 - accuracy: 0.9507 - val_loss: 0.2039 - val_accuracy: 0.9592 - lr: 1.0000e-04\n"
     ]
    }
   ],
   "source": [
    "from tensorflow.keras.callbacks import EarlyStopping, ModelCheckpoint, LearningRateScheduler\n",
    "\n",
    "#Early stopping monitor if validation loss doesn't improve after 3 epochs to prevent overfitting \n",
    "#Save out the best model with the highest valuation accuracy\n",
    "def scheduler(epoch):\n",
    "    if epoch < 3:\n",
    "        return 0.01\n",
    "    if epoch < 8:\n",
    "        return 0.001\n",
    "    else:\n",
    "        return 0.0001\n",
    "\n",
    "callback = [EarlyStopping(monitor = \"val_loss\", patience = 3, mode = \"min\"),\n",
    "            ModelCheckpoint(filepath = \"best_model.hdf5\", monitor = \"val_loss\", save_best_only = True),\n",
    "            LearningRateScheduler(scheduler)]\n",
    "\n",
    "#Fit the model\n",
    "flower_model = model.fit(train_gen, \n",
    "                      epochs = 30,\n",
    "                      shuffle = True,\n",
    "                      validation_data = valid_gen,\n",
    "                      callbacks = callback,\n",
    "                      verbose = 1)"
   ]
  },
  {
   "cell_type": "code",
   "execution_count": 19,
   "metadata": {},
   "outputs": [],
   "source": [
    "#Save the history of the best model\n",
    "data = flower_model.history\n",
    "\n",
    "with open(\"model_history.pickle\", 'wb+') as out_file:\n",
    "    pickle.dump(data, out_file)"
   ]
  },
  {
   "cell_type": "markdown",
   "metadata": {},
   "source": [
    "##### Note\n",
    "After fine tuning of the hyperparamters, the best model was saved out by the ModelCheckpoint callback and renamed as \"flower_model_best.hdf5\" to prevent over-writing. The history of the model was saved and renamed as \"flower_model_history.pickle\" to prevent over-writing."
   ]
  },
  {
   "cell_type": "code",
   "execution_count": 21,
   "metadata": {},
   "outputs": [],
   "source": [
    "#Loading the saved best model\n",
    "from tensorflow.keras.models import load_model\n",
    "\n",
    "saved_model = load_model(\"flower_model_best.hdf5\")"
   ]
  },
  {
   "cell_type": "code",
   "execution_count": 22,
   "metadata": {},
   "outputs": [
    {
     "data": {
      "image/png": "[encoded data removed]",
      "text/plain": [
       "<Figure size 432x288 with 1 Axes>"
      ]
     },
     "metadata": {
      "needs_background": "light"
     },
     "output_type": "display_data"
    }
   ],
   "source": [
    "#Loading the saved instanced history of the saved model\n",
    "with open(\"flower_model_history.pickle\", \"rb\") as in_file:\n",
    "    saved_model_history = pickle.load(in_file)\n",
    "\n",
    "#Define the function of the loss graphs of the saved model\n",
    "def plot_loss(model):\n",
    "    train_acc = model[\"loss\"]\n",
    "    test_acc = model[\"val_loss\"]\n",
    "    x = list(range(1, len(test_acc) + 1))\n",
    "    plt.plot(x, test_acc, color = \"red\", label = \"validation loss\")\n",
    "    plt.plot(x, train_acc, label = 'training loss')\n",
    "    plt.xlabel(\"Epoch\")\n",
    "    plt.ylabel(\"Loss\")\n",
    "    plt.title(\"Loss vs. Epoch\")\n",
    "    plt.legend()\n",
    "    \n",
    "#Plot the loss graphs\n",
    "plot_loss(saved_model_history)"
   ]
  },
  {
   "cell_type": "code",
   "execution_count": 23,
   "metadata": {},
   "outputs": [
    {
     "data": {
      "image/png": "[encoded data removed]",
      "text/plain": [
       "<Figure size 432x288 with 1 Axes>"
      ]
     },
     "metadata": {
      "needs_background": "light"
     },
     "output_type": "display_data"
    }
   ],
   "source": [
    "#Loading the saved instanced history of the saved model\n",
    "with open(\"flower_model_history.pickle\", \"rb\") as in_file:\n",
    "    saved_model_history = pickle.load(in_file)\n",
    "\n",
    "#Define the function of the loss graphs of the saved model\n",
    "def plot_accuracy(model):\n",
    "    train_acc = model[\"accuracy\"]\n",
    "    test_acc = model[\"val_accuracy\"]\n",
    "    x = list(range(1, len(test_acc) + 1))\n",
    "    plt.plot(x, test_acc, color = \"red\", label = \"validation accuracy\")\n",
    "    plt.plot(x, train_acc, label = 'training accuracy')\n",
    "    plt.xlabel(\"Epoch\")\n",
    "    plt.ylabel(\"Accuracy\")\n",
    "    plt.title(\"Accuracy vs. Epoch\")\n",
    "    plt.legend()\n",
    "    \n",
    "#Plot the loss graphs\n",
    "plot_accuracy(saved_model_history)"
   ]
  },
  {
   "cell_type": "raw",
   "metadata": {},
   "source": []
  },
  {
   "cell_type": "markdown",
   "metadata": {},
   "source": [
    "### Validation of accuracy\n",
    "The trained model will be tested using the test set and evaluated using the performance metric Recall. Recall is used since the objective is to determine out of all the images of a particular label, how many were correctly identified as that label. "
   ]
  },
  {
   "cell_type": "code",
   "execution_count": 24,
   "metadata": {},
   "outputs": [],
   "source": [
    "#Evaluate the test images using the saved model\n",
    "pred = saved_model.predict(test_gen)"
   ]
  },
  {
   "cell_type": "code",
   "execution_count": 25,
   "metadata": {},
   "outputs": [],
   "source": [
    "from sklearn.metrics import classification_report, accuracy_score\n",
    "\n",
    "#Convert the labels from array matrix to list of predicted and actual labels\n",
    "class_names = list(test_gen.class_indices)\n",
    "\n",
    "y_pred = [class_names[i] for i in list(np.argmax(pred, axis = -1))]\n",
    "y_true = [class_names[i] for i in test_gen.classes.tolist()]"
   ]
  },
  {
   "cell_type": "code",
   "execution_count": 26,
   "metadata": {},
   "outputs": [
    {
     "name": "stdout",
     "output_type": "stream",
     "text": [
      "              precision    recall  f1-score   support\n",
      "\n",
      "     flower1       1.00      1.00      1.00         4\n",
      "    flower21       1.00      1.00      1.00         4\n",
      "    flower27       1.00      1.00      1.00         4\n",
      "     flower3       1.00      1.00      1.00         4\n",
      "    flower34       1.00      1.00      1.00         4\n",
      "    flower45       1.00      1.00      1.00         4\n",
      "     flower7       1.00      1.00      1.00         4\n",
      "\n",
      "    accuracy                           1.00        28\n",
      "   macro avg       1.00      1.00      1.00        28\n",
      "weighted avg       1.00      1.00      1.00        28\n",
      "\n"
     ]
    }
   ],
   "source": [
    "#Print the classification report\n",
    "print(classification_report(y_true, y_pred, zero_division = 0))"
   ]
  },
  {
   "cell_type": "markdown",
   "metadata": {},
   "source": [
    "##### Evaluation:\n",
    "\n",
    "* The support is indicative of how large the testing set is for the particular image.\n",
    "\n",
    "* Overall Recall score was perfect at 1.00. This is due to the small number of labels used (7 out of 102), as well as great images with proper labelling (i.e. very little noise) in the training data, thanks to the great effort of the dataset owners. However in reality, such a score would be highly improbable.\n",
    "* However, this project is mainly to showcase the use of the Keras library for image classification. Objective is met."
   ]
  },
  {
   "cell_type": "raw",
   "metadata": {},
   "source": []
  }
 ],
 "metadata": {
  "kernelspec": {
   "display_name": "Python 3",
   "language": "python",
   "name": "python3"
  },
  "language_info": {
   "codemirror_mode": {
    "name": "ipython",
    "version": 3
   },
   "file_extension": ".py",
   "mimetype": "text/x-python",
   "name": "python",
   "nbconvert_exporter": "python",
   "pygments_lexer": "ipython3",
   "version": "3.7.6"
  }
 },
 "nbformat": 4,
 "nbformat_minor": 4
}
